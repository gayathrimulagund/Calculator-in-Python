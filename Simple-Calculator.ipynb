{
 "cells": [
  {
   "cell_type": "markdown",
   "id": "6b8125e3-44bc-48cf-9eeb-52f5825b989a",
   "metadata": {},
   "source": [
    "# Simple Calculator Program"
   ]
  },
  {
   "cell_type": "markdown",
   "id": "16ef0dfc-2691-4b9b-8cfd-ee8da6b51333",
   "metadata": {},
   "source": [
    "### Calculator for computing two numbers only"
   ]
  },
  {
   "cell_type": "code",
   "execution_count": 20,
   "id": "08a336f0-120a-4377-ba64-a230a66fa69a",
   "metadata": {
    "collapsed": true,
    "jupyter": {
     "outputs_hidden": true
    },
    "tags": []
   },
   "outputs": [
    {
     "name": "stdout",
     "output_type": "stream",
     "text": [
      "This program requests user to key-in two numbers and specify the arithmetic operations to be performed on those numbers.\n",
      " It then displays the results based on user's choice\n",
      "It provides an absolute value for subtraction\n",
      "It uses the larger number as divisor for division operations\n",
      "\n"
     ]
    },
    {
     "name": "stdin",
     "output_type": "stream",
     "text": [
      "Enter your first number:  5\n",
      "Enter your second number:  8\n",
      "Enter the arithemetic operation you wish to perform on these numbers.\n",
      " Choose the numbers as listed: \n",
      " Addition 1 \n",
      " Subtraction 2 \n",
      " Multiplication 3 \n",
      " Division 4 \n",
      " Average 5\n",
      " 5\n"
     ]
    },
    {
     "name": "stdout",
     "output_type": "stream",
     "text": [
      "Result: 6.5\n"
     ]
    }
   ],
   "source": [
    "print(\"This program requests user to key-in two numbers and specify the arithmetic operations to be performed on those numbers.\")\n",
    "print(\" It then displays the results based on user's choice\")\n",
    "print(\"It provides an absolute value for subtraction\")\n",
    "print(\"It uses the larger number as divisor for division operations\")\n",
    "print()\n",
    "x = float(input(\"Enter your first number: \"))\n",
    "y = float(input(\"Enter your second number: \")) \n",
    "choice = int(input(\"Enter the arithemetic operation you wish to perform on these numbers.\\n Choose the numbers as listed: \\n Addition 1 \\n Subtraction 2 \\n Multiplication 3 \\n Division 4 \\n Average 5\\n\"))\n",
    "if choice==1:\n",
    "    print(\"Result: \" + str(x+y))\n",
    "elif choice==2:\n",
    "    print(\"Result: \" + str(abs(x-y)))\n",
    "elif choice==3:\n",
    "    print(\"Result: \" + str(x*y))\n",
    "elif choice==4:\n",
    "    print(\"Result: \" + str((max(x,y))/(min(x,y))))\n",
    "elif choice==5:\n",
    "    print(\"Result: \" + str((x+y)/2))\n",
    "else:\n",
    "    print(\"Invalid choice, start over!\")\n"
   ]
  },
  {
   "cell_type": "markdown",
   "id": "b55c3010-1a68-41e3-afe8-ed505ee64632",
   "metadata": {},
   "source": [
    "### Calculator for computing any list of numbers"
   ]
  },
  {
   "cell_type": "code",
   "execution_count": 43,
   "id": "1519fc2d-7f8c-49ab-b2b5-7dbd7ab4432f",
   "metadata": {
    "collapsed": true,
    "jupyter": {
     "outputs_hidden": true
    },
    "tags": []
   },
   "outputs": [
    {
     "name": "stdout",
     "output_type": "stream",
     "text": [
      "This program requests user to key-in numbers and specify the arithmetic operations to be performed on those numbers.\n",
      " It then displays the results based on user's choice\n",
      "The operations for subtraction and division are carried out in the order in which they are entered by the user\n",
      "\n"
     ]
    },
    {
     "name": "stdin",
     "output_type": "stream",
     "text": [
      "List of numbers you have:  3\n"
     ]
    },
    {
     "name": "stdout",
     "output_type": "stream",
     "text": [
      "Enter number 1: \n"
     ]
    },
    {
     "name": "stdin",
     "output_type": "stream",
     "text": [
      " 3\n"
     ]
    },
    {
     "name": "stdout",
     "output_type": "stream",
     "text": [
      "Enter number 2: \n"
     ]
    },
    {
     "name": "stdin",
     "output_type": "stream",
     "text": [
      " 6\n"
     ]
    },
    {
     "name": "stdout",
     "output_type": "stream",
     "text": [
      "Enter number 3: \n"
     ]
    },
    {
     "name": "stdin",
     "output_type": "stream",
     "text": [
      " 9\n"
     ]
    },
    {
     "name": "stdout",
     "output_type": "stream",
     "text": [
      "Your numbers are: [3, 6, 9]\n"
     ]
    },
    {
     "name": "stdin",
     "output_type": "stream",
     "text": [
      "Enter the arithemetic operation you wish to perform on these numbers.\n",
      " Choose the numbers as listed: \n",
      " Addition 1 \n",
      " Subtraction 2 \n",
      " Multiplication 3 \n",
      " Division 4 \n",
      " Average 5\n",
      " 5\n"
     ]
    },
    {
     "name": "stdout",
     "output_type": "stream",
     "text": [
      "Result: 6.0\n"
     ]
    }
   ],
   "source": [
    "print(\"This program requests user to key-in numbers and specify the arithmetic operations to be performed on those numbers.\")\n",
    "print(\" It then displays the results based on user's choice\")\n",
    "print(\"The operations for subtraction and division are carried out in the order in which they are entered by the user\")\n",
    "print()\n",
    "num_list = []\n",
    "n = int(input(\"List of numbers you have: \"))\n",
    "for i in range(1, n+1):\n",
    "    print(\"Enter number \" + str(i) + \": \")\n",
    "    num = int(input())\n",
    "    num_list.append(num)\n",
    "print(\"Your numbers are: \" + str(num_list))\n",
    "choice = int(input(\"Enter the arithemetic operation you wish to perform on these numbers.\\n Choose the numbers as listed: \\n Addition 1 \\n Subtraction 2 \\n Multiplication 3 \\n Division 4 \\n Average 5\\n\"))\n",
    "if choice==1:\n",
    "    sum = 0\n",
    "    for x in num_list:\n",
    "        sum = sum + x\n",
    "    print(\"Result: \" + str(sum))\n",
    "if choice==2:\n",
    "    diff = 0\n",
    "    for y in num_list:\n",
    "        diff = diff-y\n",
    "    print(\"Result: \" + str(diff))\n",
    "if choice==3:\n",
    "    product = 1\n",
    "    for z in num_list:\n",
    "        product = product * z\n",
    "    print(\"Result: \" + str(product))\n",
    "if choice==4:\n",
    "    den = 1\n",
    "    for a in num_list:\n",
    "        if a==num_list[0]:\n",
    "            num = a\n",
    "            den = 1\n",
    "            div = num/dena\n",
    "            num = div\n",
    "        else:\n",
    "            den = a\n",
    "            num = div\n",
    "            print(\"Den: \" + str(den))\n",
    "            div = num / den \n",
    "            print(\"Num: \"+ str(num))\n",
    "            print(\"Div: \"+ str(div))\n",
    "    print(\"Result: \" + str(div))\n",
    "if choice==5:\n",
    "    sum = 0\n",
    "    count = 0\n",
    "    for a in num_list:\n",
    "        sum = sum + a\n",
    "        count = count + 1\n",
    "    avg = sum / count\n",
    "    print(\"Result: \" + str(avg))\n",
    "        "
   ]
  }
 ],
 "metadata": {
  "kernelspec": {
   "display_name": "Python 3 (ipykernel)",
   "language": "python",
   "name": "python3"
  },
  "language_info": {
   "codemirror_mode": {
    "name": "ipython",
    "version": 3
   },
   "file_extension": ".py",
   "mimetype": "text/x-python",
   "name": "python",
   "nbconvert_exporter": "python",
   "pygments_lexer": "ipython3",
   "version": "3.9.7"
  }
 },
 "nbformat": 4,
 "nbformat_minor": 5
}
